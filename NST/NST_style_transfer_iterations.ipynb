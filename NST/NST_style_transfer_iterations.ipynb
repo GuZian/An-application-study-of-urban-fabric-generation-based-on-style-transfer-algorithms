{
 "cells": [
  {
   "cell_type": "code",
   "execution_count": null,
   "metadata": {
    "id": "NyftRTSMuwue"
   },
   "outputs": [],
   "source": [
    "import os\n",
    "import tensorflow as tf\n",
    "# Load compressed mode|ls from tensorflow_hub\n",
    "os.environ['TFHUB_MODEL_LOAD_FORMAT'] = 'COMPRESSED'"
   ]
  },
  {
   "cell_type": "code",
   "execution_count": null,
   "metadata": {
    "colab": {
     "base_uri": "https://localhost:8080/",
     "height": 36
    },
    "id": "TUTSawh7TFGH",
    "outputId": "27926ce4-64c8-41dc-b5a2-b353541a5956"
   },
   "outputs": [],
   "source": [
    "tf.__version__"
   ]
  },
  {
   "cell_type": "code",
   "execution_count": null,
   "metadata": {},
   "outputs": [],
   "source": [
    "from tensorflow.python.client import device_lib\n",
    "# 列出所有的本地机器设备\n",
    "local_device_protos = device_lib.list_local_devices()"
   ]
  },
  {
   "cell_type": "code",
   "execution_count": null,
   "metadata": {
    "id": "sc1OLbOWhPCO"
   },
   "outputs": [],
   "source": [
    "import IPython.display as display\n",
    "\n",
    "import matplotlib.pyplot as plt\n",
    "import matplotlib as mpl\n",
    "mpl.rcParams['figure.figsize'] = (12, 12)\n",
    "mpl.rcParams['axes.grid'] = False\n",
    "\n",
    "import numpy as np\n",
    "import PIL.Image\n",
    "import time\n",
    "import functools"
   ]
  },
  {
   "cell_type": "code",
   "execution_count": null,
   "metadata": {
    "id": "GM6VEGrGLh62"
   },
   "outputs": [],
   "source": [
    "def tensor_to_image(tensor):\n",
    "  tensor = tensor*255\n",
    "  tensor = np.array(tensor, dtype=np.uint8)\n",
    "  if np.ndim(tensor)>3:\n",
    "    assert tensor.shape[0] == 1\n",
    "    tensor = tensor[0]\n",
    "  return PIL.Image.fromarray(tensor)"
   ]
  },
  {
   "cell_type": "markdown",
   "metadata": {
    "id": "oeXebYusyHwC"
   },
   "source": [
    "下载图像并选择风格图像和内容图像："
   ]
  },
  {
   "cell_type": "code",
   "execution_count": null,
   "metadata": {
    "id": "wqc0OJHwyFAk"
   },
   "outputs": [],
   "source": [
    "# content_path = tf.keras.utils.get_file('YellowLabradorLooking_new.jpg', 'https://storage.googleapis.com/download.tensorflow.org/example_images/YellowLabradorLooking_new.jpg')\n",
    "# style_path = tf.keras.utils.get_file('YellowLabradorLooking_new.jpg', 'https://storage.googleapis.com/download.tensorflow.org/example_images/YellowLabradorLooking_new.jpg')\n",
    "# style_path = tf.keras.utils.get_file('kandinsky5.jpg','https://storage.googleapis.com/download.tensorflow.org/example_images/Vassily_Kandinsky%2C_1913_-_Composition_7.jpg')\n",
    "content_path='c1.jpg'\n",
    "style_path ='s1.jpg'"
   ]
  },
  {
   "cell_type": "markdown",
   "metadata": {
    "id": "xE4Yt8nArTeR"
   },
   "source": [
    "## 呈现输入"
   ]
  },
  {
   "cell_type": "markdown",
   "metadata": {
    "id": "klh6ObK2t_vH"
   },
   "source": [
    "定义一个加载图像的函数"
   ]
  },
  {
   "cell_type": "code",
   "execution_count": null,
   "metadata": {
    "id": "3TLljcwv5qZs"
   },
   "outputs": [],
   "source": [
    "def load_img(path_to_img):\n",
    "  max_dim = 1024\n",
    "  img = tf.io.read_file(path_to_img)\n",
    "  img = tf.image.decode_image(img, channels=3)\n",
    "  img = tf.image.convert_image_dtype(img, tf.float32)\n",
    "\n",
    "  shape = tf.cast(tf.shape(img)[:-1], tf.float32)\n",
    "  long_dim = max(shape)\n",
    "  scale = max_dim / long_dim\n",
    "\n",
    "  new_shape = tf.cast(shape * scale, tf.int32)\n",
    "\n",
    "  img = tf.image.resize(img, new_shape)\n",
    "  img = img[tf.newaxis, :]\n",
    "  return img"
   ]
  },
  {
   "cell_type": "markdown",
   "metadata": {
    "id": "2yAlRzJZrWM3"
   },
   "source": [
    "创建一个简单的函数来显示图像："
   ]
  },
  {
   "cell_type": "code",
   "execution_count": null,
   "metadata": {
    "id": "cBX-eNT8PAK_"
   },
   "outputs": [],
   "source": [
    "def imshow(image, title=None):\n",
    "  if len(image.shape) > 3:\n",
    "    image = tf.squeeze(image, axis=0)\n",
    "  plt.tick_params(labelsize=10)\n",
    "  plt.imshow(image)\n",
    "  if title:\n",
    "    plt.title(title,fontsize = 20)"
   ]
  },
  {
   "cell_type": "code",
   "execution_count": null,
   "metadata": {
    "colab": {
     "base_uri": "https://localhost:8080/",
     "height": 272
    },
    "id": "_UWQmeEaiKkP",
    "outputId": "72133036-5002-4e61-957d-502fbf44d5f6"
   },
   "outputs": [],
   "source": [
    "content_image = load_img(content_path)\n",
    "style_image = load_img(style_path)\n",
    "plt.figure(dpi=300)\n",
    "\n",
    "plt.subplot(1, 2, 1)\n",
    "imshow(content_image, 'Content Image')\n",
    "\n",
    "plt.subplot(1, 2, 2)\n",
    "imshow(style_image, 'Style Image')"
   ]
  },
  {
   "cell_type": "markdown",
   "metadata": {
    "id": "GEwZ7FlwrjoZ"
   },
   "source": [
    "## 定义内容和风格的表示\n",
    "\n",
    "使用模型的中间层来获取图像的*内容*和*风格*表示。从网络的输入层开始，前几个层的激活表示边缘和纹理等低级特征。随着深入网络，最后几层代表更高级的特征 – 对象部分，如*轮子*或*眼睛*。我们使用的是 VGG19 网络架构，这是一个已经预训练好的图像分类网络。这些中间层是从图像中定义内容和风格的表示所必需的。对于输入图像，我们尝试匹配这些中间层的相应风格和内容目标的表示。\n"
   ]
  },
  {
   "cell_type": "markdown",
   "metadata": {
    "id": "ljpoYk-0f6HS"
   },
   "source": [
    "现在，加载没有分类部分的 `VGG19` ，并列出各层的名称："
   ]
  },
  {
   "cell_type": "code",
   "execution_count": null,
   "metadata": {
    "colab": {
     "base_uri": "https://localhost:8080/"
    },
    "id": "Yh_AV6220ebD",
    "outputId": "47d6ccc1-4647-4d17-930f-3050ca681523"
   },
   "outputs": [],
   "source": [
    "vgg = tf.keras.applications.VGG19(include_top=False, weights='imagenet',pooling='avg')\n",
    "\n",
    "for layer in vgg.layers:\n",
    "  print(layer.name)"
   ]
  },
  {
   "cell_type": "markdown",
   "metadata": {
    "id": "Wt-tASys0eJv"
   },
   "source": [
    "从网络中选择中间层的输出以表示图像的风格和内容：\n"
   ]
  },
  {
   "cell_type": "code",
   "execution_count": null,
   "metadata": {
    "id": "ArfX_6iA0WAX"
   },
   "outputs": [],
   "source": [
    "content_layers = ['block5_conv2'] \n",
    "\n",
    "style_layers = ['block1_conv1',\n",
    "                'block2_conv1',\n",
    "                'block3_conv1', \n",
    "                'block4_conv1', \n",
    "                'block5_conv1']\n",
    "\n",
    "num_content_layers = len(content_layers)\n",
    "num_style_layers = len(style_layers)"
   ]
  },
  {
   "cell_type": "markdown",
   "metadata": {
    "id": "2o4nSwuN0U3X"
   },
   "source": [
    "#### 用于表示风格和内容的中间层\n",
    "\n",
    "那么,为什么我们预训练的图像分类网络中的这些中间层的输出允许我们定义风格和内容的表示？\n",
    "\n",
    "从高层理解，为了使网络能够实现图像分类（该网络已被训练过），它必须理解图像。 这需要将原始图像作为输入像素并构建内部表示，这个内部表示将原始图像像素转换为对图像中存在的 feature (特征)的复杂理解。\n",
    "\n",
    "这也是卷积神经网络能够很好地泛化的原因：它们能够捕获不变性并定义类内的特征（例如猫与狗），这些特征与背景噪声和其他滋扰无关。因此，在将原始图像输入模型和输出分类标签之间的某个位置，该模型用作复杂的特征提取程序。通过访问模型的中间层，您可以描述输入图像的内容和风格。"
   ]
  },
  {
   "cell_type": "markdown",
   "metadata": {
    "id": "Jt3i3RRrJiOX"
   },
   "source": [
    "## 构建模型\n",
    "\n",
    "`tf.keras.applications` 中的网络让您可以使用 Keras 函数式 API 轻松提取中间层值。\n",
    "\n",
    "要使用函数式 API 定义模型，请指定输入和输出：\n",
    "\n",
    "`model = Model(inputs, outputs)`\n",
    "\n",
    "以下函数构建了一个 VGG19 模型，该模型返回一个中间层输出的列表："
   ]
  },
  {
   "cell_type": "code",
   "execution_count": null,
   "metadata": {
    "id": "nfec6MuMAbPx"
   },
   "outputs": [],
   "source": [
    "def vgg_layers(layer_names):\n",
    "  \"\"\" Creates a VGG model that returns a list of intermediate output values.\"\"\"\n",
    "  # Load our model. Load pretrained VGG, trained on ImageNet data\n",
    "  vgg = tf.keras.applications.VGG19(include_top=False, weights='imagenet')\n",
    "  vgg.trainable = False\n",
    "  \n",
    "  outputs = [vgg.get_layer(name).output for name in layer_names]\n",
    "\n",
    "  model = tf.keras.Model([vgg.input], outputs)\n",
    "  return model"
   ]
  },
  {
   "cell_type": "markdown",
   "metadata": {
    "id": "lGUfttK9F8d5"
   },
   "source": [
    "## 风格计算\n",
    "\n",
    "图像的内容由中间 feature maps (特征图)的值表示。\n",
    "\n",
    "事实证明，图像的风格可以通过不同 feature maps (特征图)上的平均值和相关性来描述。 通过在每个位置计算 feature (特征)向量的外积，并在所有位置对该外积进行平均,可以计算出包含此信息的 Gram 矩阵。 对于特定层的 Gram 矩阵，具体计算方法如下所示：\n",
    "\n",
    "$$G^l_{cd} = \\frac{\\sum_{ij} F^l_{ijc}(x)F^l_{ijd}(x)}{IJ}$$\n",
    "\n",
    "这可以使用 `tf.linalg.einsum` 函数简洁地实现："
   ]
  },
  {
   "cell_type": "code",
   "execution_count": null,
   "metadata": {
    "id": "HAy1iGPdoEpZ"
   },
   "outputs": [],
   "source": [
    "def gram_matrix(input_tensor):\n",
    "  result = tf.linalg.einsum('bijc,bijd->bcd', input_tensor, input_tensor)\n",
    "  input_shape = tf.shape(input_tensor)\n",
    "  num_locations = tf.cast(input_shape[1]*input_shape[2], tf.float32)\n",
    "  return result/(num_locations)"
   ]
  },
  {
   "cell_type": "markdown",
   "metadata": {
    "id": "pXIUX6czZABh"
   },
   "source": [
    "## 提取风格和内容\n"
   ]
  },
  {
   "cell_type": "markdown",
   "metadata": {
    "id": "1HGHvwlJ1nkn"
   },
   "source": [
    "构建一个返回风格和内容张量的模型。"
   ]
  },
  {
   "cell_type": "code",
   "execution_count": null,
   "metadata": {
    "id": "Sr6QALY-I1ja"
   },
   "outputs": [],
   "source": [
    "class StyleContentModel(tf.keras.models.Model):\n",
    "  def __init__(self, style_layers, content_layers):\n",
    "    super(StyleContentModel, self).__init__()\n",
    "    self.vgg = vgg_layers(style_layers + content_layers)\n",
    "    self.style_layers = style_layers\n",
    "    self.content_layers = content_layers\n",
    "    self.num_style_layers = len(style_layers)\n",
    "    self.vgg.trainable = False\n",
    "\n",
    "  def call(self, inputs):\n",
    "    \"Expects float input in [0,1]\"\n",
    "    inputs = inputs*255.0\n",
    "    preprocessed_input = tf.keras.applications.vgg19.preprocess_input(inputs)\n",
    "    outputs = self.vgg(preprocessed_input)\n",
    "    style_outputs, content_outputs = (outputs[:self.num_style_layers],\n",
    "                                      outputs[self.num_style_layers:])\n",
    "\n",
    "    style_outputs = [gram_matrix(style_output)\n",
    "                     for style_output in style_outputs]\n",
    "\n",
    "    content_dict = {content_name: value\n",
    "                    for content_name, value\n",
    "                    in zip(self.content_layers, content_outputs)}\n",
    "\n",
    "    style_dict = {style_name: value\n",
    "                  for style_name, value\n",
    "                  in zip(self.style_layers, style_outputs)}\n",
    "\n",
    "    return {'content': content_dict, 'style': style_dict}"
   ]
  },
  {
   "cell_type": "markdown",
   "metadata": {
    "id": "Xuj1o33t1edl"
   },
   "source": [
    "在图像上调用此模型，可以返回 `style_layers` 的 gram 矩阵（风格）和 `content_layers` 的内容："
   ]
  },
  {
   "cell_type": "markdown",
   "metadata": {
    "id": "y9r8Lyjb_m0u"
   },
   "source": [
    "## 运行梯度下降\n",
    "\n",
    "使用此风格和内容提取程序，我们现在可以实现风格传输算法。我们通过计算每个图像的输出和目标的均方误差来做到这一点，然后取这些损失值的加权和。\n",
    "\n",
    "设置风格和内容的目标值："
   ]
  },
  {
   "cell_type": "code",
   "execution_count": null,
   "metadata": {
    "id": "PgkNOnGUFcKa"
   },
   "outputs": [],
   "source": [
    "extractor = StyleContentModel(style_layers, content_layers)\n",
    "style_targets = extractor(style_image)['style']\n",
    "content_targets = extractor(content_image)['content']"
   ]
  },
  {
   "cell_type": "markdown",
   "metadata": {
    "id": "CNPrpl-e_w9A"
   },
   "source": [
    "定义一个 `tf.Variable` 来表示要优化的图像。 为了快速实现这一点，使用内容图像对其进行初始化（ `tf.Variable` 必须与内容图像的形状相同）"
   ]
  },
  {
   "cell_type": "markdown",
   "metadata": {
    "id": "M6L8ojmn_6rH"
   },
   "source": [
    "由于这是一个浮点图像，因此我们定义一个函数来保持像素值在 0 和 1 之间："
   ]
  },
  {
   "cell_type": "code",
   "execution_count": null,
   "metadata": {
    "id": "kdgpTJwL_vE2"
   },
   "outputs": [],
   "source": [
    "def clip_0_1(image):\n",
    "  return tf.clip_by_value(image, clip_value_min=0.0, clip_value_max=1.0)"
   ]
  },
  {
   "cell_type": "markdown",
   "metadata": {
    "id": "As-evbBiA2qT"
   },
   "source": [
    "为了优化它，我们使用两个损失的加权组合来获得总损失："
   ]
  },
  {
   "cell_type": "code",
   "execution_count": null,
   "metadata": {
    "id": "Dt4pxarvA4I4"
   },
   "outputs": [],
   "source": [
    "style_weight=1e-2\n",
    "content_weight=1e4"
   ]
  },
  {
   "cell_type": "code",
   "execution_count": null,
   "metadata": {
    "id": "0ggx2Na8oROH"
   },
   "outputs": [],
   "source": [
    "def style_content_loss(outputs):\n",
    "    style_outputs = outputs['style']\n",
    "    content_outputs = outputs['content']\n",
    "    style_loss = tf.add_n([tf.reduce_mean((style_outputs[name]-style_targets[name])**2) \n",
    "                           for name in style_outputs.keys()])\n",
    "    style_loss *= style_weight / num_style_layers\n",
    "\n",
    "    content_loss = tf.add_n([tf.reduce_mean((content_outputs[name]-content_targets[name])**2) \n",
    "                             for name in content_outputs.keys()])\n",
    "    content_loss *= content_weight / num_content_layers\n",
    "    loss = style_loss + content_loss\n",
    "    return loss"
   ]
  },
  {
   "cell_type": "markdown",
   "metadata": {
    "id": "vbF2WnP9BI5M"
   },
   "source": [
    "使用 `tf.GradientTape` 来更新图像。"
   ]
  },
  {
   "cell_type": "markdown",
   "metadata": {
    "id": "GWVB3anJMY2v"
   },
   "source": [
    "## 总变分损失\n",
    "\n",
    "它会产生大量的高频误差。 我们可以直接通过正则化图像的高频分量来减少这些高频误差。 在风格转移中，这通常被称为*总变分损失*"
   ]
  },
  {
   "cell_type": "markdown",
   "metadata": {
    "id": "nTessd-DCdcC"
   },
   "source": [
    "## 进行优化\n",
    "\n",
    "选择 `total_variation_loss` 的权重："
   ]
  },
  {
   "cell_type": "code",
   "execution_count": null,
   "metadata": {
    "id": "tGeRLD4GoAd4"
   },
   "outputs": [],
   "source": [
    "total_variation_weight=30"
   ]
  },
  {
   "cell_type": "markdown",
   "metadata": {
    "id": "kG1-T4kJsoAv"
   },
   "source": [
    "现在，将它加入 `train_step` 函数中："
   ]
  },
  {
   "cell_type": "code",
   "execution_count": null,
   "metadata": {
    "id": "BzmfcyyYUyWq"
   },
   "outputs": [],
   "source": [
    "@tf.function()\n",
    "def train_step(image):\n",
    "  with tf.GradientTape() as tape:\n",
    "    outputs = extractor(image)\n",
    "    loss = style_content_loss(outputs)\n",
    "    loss += total_variation_weight*tf.image.total_variation(image)\n",
    "\n",
    "  grad = tape.gradient(loss, image)\n",
    "  opt.apply_gradients([(grad, image)])\n",
    "  image.assign(clip_0_1(image))"
   ]
  },
  {
   "cell_type": "markdown",
   "metadata": {
    "id": "lcLWBQChsutQ"
   },
   "source": [
    "重新初始化图像变量和优化器："
   ]
  },
  {
   "cell_type": "code",
   "execution_count": null,
   "metadata": {
    "id": "a-dPRr8BqexB"
   },
   "outputs": [],
   "source": [
    "opt = tf.keras.optimizers.Adam(learning_rate=0.02, beta_1=0.99, epsilon=1e-7)\n",
    "image = tf.Variable(content_image)\n",
    "img=[]"
   ]
  },
  {
   "cell_type": "markdown",
   "metadata": {
    "id": "BEflRstmtGBu"
   },
   "source": [
    "并进行优化："
   ]
  },
  {
   "cell_type": "code",
   "execution_count": null,
   "metadata": {
    "colab": {
     "base_uri": "https://localhost:8080/",
     "height": 653
    },
    "id": "q3Cc3bLtoOWy",
    "outputId": "2ab85ade-777d-45be-acc7-1e960dd2c7c9",
    "scrolled": false
   },
   "outputs": [],
   "source": [
    "import time\n",
    "start = time.time()\n",
    "\n",
    "epochs = 300\n",
    "steps_per_epoch = 100\n",
    "\n",
    "step = 0\n",
    "for n in range(epochs):\n",
    "  for m in range(steps_per_epoch):\n",
    "    step += 1\n",
    "    train_step(image)\n",
    "    print(\".\", end='', flush=True)\n",
    "    if step==1000:\n",
    "        img.append(tensor_to_image(image))\n",
    "    elif step==5000:\n",
    "        img.append(tensor_to_image(image))\n",
    "    elif step==10000:\n",
    "        img.append(tensor_to_image(image))\n",
    "    elif step==20000:\n",
    "        img.append(tensor_to_image(image))\n",
    "    elif step==30000:\n",
    "        img.append(tensor_to_image(image))\n",
    "  display.clear_output(wait=True)\n",
    "  display.display(tensor_to_image(image))\n",
    "  print(\"Train step: {}\".format(step))\n",
    "\n",
    "end = time.time()\n",
    "print(\"Total time: {:.1f}\".format(end-start))"
   ]
  },
  {
   "cell_type": "code",
   "execution_count": null,
   "metadata": {},
   "outputs": [],
   "source": [
    "plt.figure(dpi=500)\n",
    "plt.subplot(3, 2, 1)\n",
    "imshow(style_image, 'Original Texture')\n",
    "plt.subplot(3, 2, 2)\n",
    "plt.imshow(img[0])\n",
    "plt.title('1000 Iterations',fontsize = 20)\n",
    "plt.subplot(3, 2, 3)\n",
    "plt.imshow(img[1])\n",
    "plt.title('5000 Iterations',fontsize = 20)\n",
    "plt.subplot(3, 2, 4)\n",
    "plt.imshow(img[2])\n",
    "plt.title('10000 Iterations',fontsize = 20)\n",
    "plt.subplot(3, 2, 5)\n",
    "plt.imshow(img[3])\n",
    "plt.title('20000 Iterations',fontsize = 20)\n",
    "plt.subplot(3, 2, 6)\n",
    "plt.imshow(img[4])\n",
    "plt.title('30000 Iterations',fontsize = 20)"
   ]
  },
  {
   "cell_type": "markdown",
   "metadata": {
    "id": "KKox7K46tKxy"
   },
   "source": [
    "最后，保存结果："
   ]
  },
  {
   "cell_type": "code",
   "execution_count": null,
   "metadata": {
    "colab": {
     "base_uri": "https://localhost:8080/",
     "height": 17
    },
    "id": "SSH6OpyyQn7w",
    "outputId": "f7ce3d11-5d24-405e-e606-e89543671ef2"
   },
   "outputs": [],
   "source": [
    "# file_name = 'stylized-image.png'\n",
    "# tensor_to_image(image).save(file_name)\n",
    "\n",
    "# try:\n",
    "#   from google.colab import files\n",
    "# except ImportError:\n",
    "#    pass\n",
    "# else:\n",
    "#   files.download(file_name)"
   ]
  },
  {
   "cell_type": "code",
   "execution_count": null,
   "metadata": {
    "colab": {
     "base_uri": "https://localhost:8080/"
    },
    "id": "Y4yGd-BnEj7M",
    "outputId": "0de99d5e-f5d1-4e1c-f0a4-2830fbc5e515"
   },
   "outputs": [],
   "source": [
    "import os\n",
    "print(os.path.abspath('.'))"
   ]
  }
 ],
 "metadata": {
  "accelerator": "GPU",
  "colab": {
   "provenance": []
  },
  "kernelspec": {
   "display_name": "Python 3 (ipykernel)",
   "language": "python",
   "name": "python3"
  },
  "language_info": {
   "codemirror_mode": {
    "name": "ipython",
    "version": 3
   },
   "file_extension": ".py",
   "mimetype": "text/x-python",
   "name": "python",
   "nbconvert_exporter": "python",
   "pygments_lexer": "ipython3",
   "version": "3.7.11"
  }
 },
 "nbformat": 4,
 "nbformat_minor": 1
}
